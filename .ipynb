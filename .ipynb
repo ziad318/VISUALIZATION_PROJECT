{
 "cells": [
  {
   "cell_type": "code",
   "execution_count": 1828,
   "metadata": {},
   "outputs": [],
   "source": [
    "import pandas as pd  #importing pandas \n",
    "import numpy as np #importing numpy\n",
    "import json #importing json\n",
    "import plotly.express as px #importing plotly express\n"
   ]
  },
  {
   "cell_type": "code",
   "execution_count": 1829,
   "metadata": {},
   "outputs": [],
   "source": [
    "import plotly.io as pio  #the plots will open in different tabs \n",
    "pio.renderers.default = 'browser'"
   ]
  },
  {
   "cell_type": "code",
   "execution_count": 1830,
   "metadata": {},
   "outputs": [
    {
     "name": "stderr",
     "output_type": "stream",
     "text": [
      "C:\\Users\\Musta\\anaconda3\\lib\\site-packages\\IPython\\core\\interactiveshell.py:3071: DtypeWarning:\n",
      "\n",
      "Columns (19) have mixed types.Specify dtype option on import or set low_memory=False.\n",
      "\n"
     ]
    }
   ],
   "source": [
    "hc= pd.read_csv(\"hate_crime.csv\")  #reading the csv file containing the data"
   ]
  },
  {
   "cell_type": "code",
   "execution_count": 1831,
   "metadata": {},
   "outputs": [
    {
     "data": {
      "text/html": [
       "<div>\n",
       "<style scoped>\n",
       "    .dataframe tbody tr th:only-of-type {\n",
       "        vertical-align: middle;\n",
       "    }\n",
       "\n",
       "    .dataframe tbody tr th {\n",
       "        vertical-align: top;\n",
       "    }\n",
       "\n",
       "    .dataframe thead th {\n",
       "        text-align: right;\n",
       "    }\n",
       "</style>\n",
       "<table border=\"1\" class=\"dataframe\">\n",
       "  <thead>\n",
       "    <tr style=\"text-align: right;\">\n",
       "      <th></th>\n",
       "      <th>INCIDENT_ID</th>\n",
       "      <th>DATA_YEAR</th>\n",
       "      <th>ADULT_VICTIM_COUNT</th>\n",
       "      <th>JUVENILE_VICTIM_COUNT</th>\n",
       "      <th>TOTAL_OFFENDER_COUNT</th>\n",
       "      <th>ADULT_OFFENDER_COUNT</th>\n",
       "      <th>JUVENILE_OFFENDER_COUNT</th>\n",
       "      <th>VICTIM_COUNT</th>\n",
       "      <th>TOTAL_INDIVIDUAL_VICTIMS</th>\n",
       "    </tr>\n",
       "  </thead>\n",
       "  <tbody>\n",
       "    <tr>\n",
       "      <th>count</th>\n",
       "      <td>201403.000000</td>\n",
       "      <td>201403.000000</td>\n",
       "      <td>35973.000000</td>\n",
       "      <td>35496.000000</td>\n",
       "      <td>201403.000000</td>\n",
       "      <td>33952.000000</td>\n",
       "      <td>33945.000000</td>\n",
       "      <td>201403.000000</td>\n",
       "      <td>199797.000000</td>\n",
       "    </tr>\n",
       "    <tr>\n",
       "      <th>mean</th>\n",
       "      <td>114148.940031</td>\n",
       "      <td>2004.200906</td>\n",
       "      <td>0.504656</td>\n",
       "      <td>0.064683</td>\n",
       "      <td>0.969112</td>\n",
       "      <td>0.422449</td>\n",
       "      <td>0.083046</td>\n",
       "      <td>1.245647</td>\n",
       "      <td>0.973568</td>\n",
       "    </tr>\n",
       "    <tr>\n",
       "      <th>std</th>\n",
       "      <td>97935.432601</td>\n",
       "      <td>7.804374</td>\n",
       "      <td>0.972267</td>\n",
       "      <td>0.396970</td>\n",
       "      <td>1.387487</td>\n",
       "      <td>0.770693</td>\n",
       "      <td>0.436144</td>\n",
       "      <td>1.153782</td>\n",
       "      <td>1.107456</td>\n",
       "    </tr>\n",
       "    <tr>\n",
       "      <th>min</th>\n",
       "      <td>2.000000</td>\n",
       "      <td>1991.000000</td>\n",
       "      <td>0.000000</td>\n",
       "      <td>0.000000</td>\n",
       "      <td>0.000000</td>\n",
       "      <td>0.000000</td>\n",
       "      <td>0.000000</td>\n",
       "      <td>1.000000</td>\n",
       "      <td>0.000000</td>\n",
       "    </tr>\n",
       "    <tr>\n",
       "      <th>25%</th>\n",
       "      <td>50352.500000</td>\n",
       "      <td>1998.000000</td>\n",
       "      <td>0.000000</td>\n",
       "      <td>0.000000</td>\n",
       "      <td>0.000000</td>\n",
       "      <td>0.000000</td>\n",
       "      <td>0.000000</td>\n",
       "      <td>1.000000</td>\n",
       "      <td>1.000000</td>\n",
       "    </tr>\n",
       "    <tr>\n",
       "      <th>50%</th>\n",
       "      <td>100703.000000</td>\n",
       "      <td>2004.000000</td>\n",
       "      <td>0.000000</td>\n",
       "      <td>0.000000</td>\n",
       "      <td>1.000000</td>\n",
       "      <td>0.000000</td>\n",
       "      <td>0.000000</td>\n",
       "      <td>1.000000</td>\n",
       "      <td>1.000000</td>\n",
       "    </tr>\n",
       "    <tr>\n",
       "      <th>75%</th>\n",
       "      <td>151053.500000</td>\n",
       "      <td>2011.000000</td>\n",
       "      <td>1.000000</td>\n",
       "      <td>0.000000</td>\n",
       "      <td>1.000000</td>\n",
       "      <td>1.000000</td>\n",
       "      <td>0.000000</td>\n",
       "      <td>1.000000</td>\n",
       "      <td>1.000000</td>\n",
       "    </tr>\n",
       "    <tr>\n",
       "      <th>max</th>\n",
       "      <td>603113.000000</td>\n",
       "      <td>2018.000000</td>\n",
       "      <td>80.000000</td>\n",
       "      <td>40.000000</td>\n",
       "      <td>99.000000</td>\n",
       "      <td>30.000000</td>\n",
       "      <td>15.000000</td>\n",
       "      <td>200.000000</td>\n",
       "      <td>147.000000</td>\n",
       "    </tr>\n",
       "  </tbody>\n",
       "</table>\n",
       "</div>"
      ],
      "text/plain": [
       "         INCIDENT_ID      DATA_YEAR  ADULT_VICTIM_COUNT  \\\n",
       "count  201403.000000  201403.000000        35973.000000   \n",
       "mean   114148.940031    2004.200906            0.504656   \n",
       "std     97935.432601       7.804374            0.972267   \n",
       "min         2.000000    1991.000000            0.000000   \n",
       "25%     50352.500000    1998.000000            0.000000   \n",
       "50%    100703.000000    2004.000000            0.000000   \n",
       "75%    151053.500000    2011.000000            1.000000   \n",
       "max    603113.000000    2018.000000           80.000000   \n",
       "\n",
       "       JUVENILE_VICTIM_COUNT  TOTAL_OFFENDER_COUNT  ADULT_OFFENDER_COUNT  \\\n",
       "count           35496.000000         201403.000000          33952.000000   \n",
       "mean                0.064683              0.969112              0.422449   \n",
       "std                 0.396970              1.387487              0.770693   \n",
       "min                 0.000000              0.000000              0.000000   \n",
       "25%                 0.000000              0.000000              0.000000   \n",
       "50%                 0.000000              1.000000              0.000000   \n",
       "75%                 0.000000              1.000000              1.000000   \n",
       "max                40.000000             99.000000             30.000000   \n",
       "\n",
       "       JUVENILE_OFFENDER_COUNT   VICTIM_COUNT  TOTAL_INDIVIDUAL_VICTIMS  \n",
       "count             33945.000000  201403.000000             199797.000000  \n",
       "mean                  0.083046       1.245647                  0.973568  \n",
       "std                   0.436144       1.153782                  1.107456  \n",
       "min                   0.000000       1.000000                  0.000000  \n",
       "25%                   0.000000       1.000000                  1.000000  \n",
       "50%                   0.000000       1.000000                  1.000000  \n",
       "75%                   0.000000       1.000000                  1.000000  \n",
       "max                  15.000000     200.000000                147.000000  "
      ]
     },
     "execution_count": 1831,
     "metadata": {},
     "output_type": "execute_result"
    }
   ],
   "source": [
    "hc.describe() #getting a description of the data "
   ]
  },
  {
   "cell_type": "code",
   "execution_count": 1832,
   "metadata": {},
   "outputs": [
    {
     "data": {
      "text/html": [
       "<div>\n",
       "<style scoped>\n",
       "    .dataframe tbody tr th:only-of-type {\n",
       "        vertical-align: middle;\n",
       "    }\n",
       "\n",
       "    .dataframe tbody tr th {\n",
       "        vertical-align: top;\n",
       "    }\n",
       "\n",
       "    .dataframe thead th {\n",
       "        text-align: right;\n",
       "    }\n",
       "</style>\n",
       "<table border=\"1\" class=\"dataframe\">\n",
       "  <thead>\n",
       "    <tr style=\"text-align: right;\">\n",
       "      <th></th>\n",
       "      <th>INCIDENT_ID</th>\n",
       "      <th>DATA_YEAR</th>\n",
       "      <th>ORI</th>\n",
       "      <th>PUB_AGENCY_NAME</th>\n",
       "      <th>PUB_AGENCY_UNIT</th>\n",
       "      <th>AGENCY_TYPE_NAME</th>\n",
       "      <th>STATE_ABBR</th>\n",
       "      <th>STATE_NAME</th>\n",
       "      <th>DIVISION_NAME</th>\n",
       "      <th>REGION_NAME</th>\n",
       "      <th>...</th>\n",
       "      <th>OFFENDER_RACE</th>\n",
       "      <th>OFFENDER_ETHNICITY</th>\n",
       "      <th>VICTIM_COUNT</th>\n",
       "      <th>OFFENSE_NAME</th>\n",
       "      <th>TOTAL_INDIVIDUAL_VICTIMS</th>\n",
       "      <th>LOCATION_NAME</th>\n",
       "      <th>BIAS_DESC</th>\n",
       "      <th>VICTIM_TYPES</th>\n",
       "      <th>MULTIPLE_OFFENSE</th>\n",
       "      <th>MULTIPLE_BIAS</th>\n",
       "    </tr>\n",
       "  </thead>\n",
       "  <tbody>\n",
       "    <tr>\n",
       "      <th>0</th>\n",
       "      <td>3015</td>\n",
       "      <td>1991</td>\n",
       "      <td>AR0040200</td>\n",
       "      <td>Rogers</td>\n",
       "      <td>NaN</td>\n",
       "      <td>City</td>\n",
       "      <td>AR</td>\n",
       "      <td>Arkansas</td>\n",
       "      <td>West South Central</td>\n",
       "      <td>South</td>\n",
       "      <td>...</td>\n",
       "      <td>White</td>\n",
       "      <td>NaN</td>\n",
       "      <td>1</td>\n",
       "      <td>Intimidation</td>\n",
       "      <td>1.0</td>\n",
       "      <td>Highway/Road/Alley/Street/Sidewalk</td>\n",
       "      <td>Anti-Black or African American</td>\n",
       "      <td>Individual</td>\n",
       "      <td>S</td>\n",
       "      <td>S</td>\n",
       "    </tr>\n",
       "    <tr>\n",
       "      <th>1</th>\n",
       "      <td>3016</td>\n",
       "      <td>1991</td>\n",
       "      <td>AR0290100</td>\n",
       "      <td>Hope</td>\n",
       "      <td>NaN</td>\n",
       "      <td>City</td>\n",
       "      <td>AR</td>\n",
       "      <td>Arkansas</td>\n",
       "      <td>West South Central</td>\n",
       "      <td>South</td>\n",
       "      <td>...</td>\n",
       "      <td>Black or African American</td>\n",
       "      <td>NaN</td>\n",
       "      <td>1</td>\n",
       "      <td>Simple Assault</td>\n",
       "      <td>1.0</td>\n",
       "      <td>Highway/Road/Alley/Street/Sidewalk</td>\n",
       "      <td>Anti-White</td>\n",
       "      <td>Individual</td>\n",
       "      <td>S</td>\n",
       "      <td>S</td>\n",
       "    </tr>\n",
       "    <tr>\n",
       "      <th>2</th>\n",
       "      <td>43</td>\n",
       "      <td>1991</td>\n",
       "      <td>AR0350100</td>\n",
       "      <td>Pine Bluff</td>\n",
       "      <td>NaN</td>\n",
       "      <td>City</td>\n",
       "      <td>AR</td>\n",
       "      <td>Arkansas</td>\n",
       "      <td>West South Central</td>\n",
       "      <td>South</td>\n",
       "      <td>...</td>\n",
       "      <td>Black or African American</td>\n",
       "      <td>NaN</td>\n",
       "      <td>1</td>\n",
       "      <td>Aggravated Assault</td>\n",
       "      <td>1.0</td>\n",
       "      <td>Residence/Home</td>\n",
       "      <td>Anti-Black or African American</td>\n",
       "      <td>Individual</td>\n",
       "      <td>S</td>\n",
       "      <td>S</td>\n",
       "    </tr>\n",
       "    <tr>\n",
       "      <th>3</th>\n",
       "      <td>44</td>\n",
       "      <td>1991</td>\n",
       "      <td>AR0350100</td>\n",
       "      <td>Pine Bluff</td>\n",
       "      <td>NaN</td>\n",
       "      <td>City</td>\n",
       "      <td>AR</td>\n",
       "      <td>Arkansas</td>\n",
       "      <td>West South Central</td>\n",
       "      <td>South</td>\n",
       "      <td>...</td>\n",
       "      <td>Black or African American</td>\n",
       "      <td>NaN</td>\n",
       "      <td>2</td>\n",
       "      <td>Aggravated Assault;Destruction/Damage/Vandalis...</td>\n",
       "      <td>1.0</td>\n",
       "      <td>Highway/Road/Alley/Street/Sidewalk</td>\n",
       "      <td>Anti-White</td>\n",
       "      <td>Individual</td>\n",
       "      <td>M</td>\n",
       "      <td>S</td>\n",
       "    </tr>\n",
       "    <tr>\n",
       "      <th>4</th>\n",
       "      <td>3017</td>\n",
       "      <td>1991</td>\n",
       "      <td>AR0350100</td>\n",
       "      <td>Pine Bluff</td>\n",
       "      <td>NaN</td>\n",
       "      <td>City</td>\n",
       "      <td>AR</td>\n",
       "      <td>Arkansas</td>\n",
       "      <td>West South Central</td>\n",
       "      <td>South</td>\n",
       "      <td>...</td>\n",
       "      <td>Black or African American</td>\n",
       "      <td>NaN</td>\n",
       "      <td>1</td>\n",
       "      <td>Aggravated Assault</td>\n",
       "      <td>1.0</td>\n",
       "      <td>Service/Gas Station</td>\n",
       "      <td>Anti-White</td>\n",
       "      <td>Individual</td>\n",
       "      <td>S</td>\n",
       "      <td>S</td>\n",
       "    </tr>\n",
       "  </tbody>\n",
       "</table>\n",
       "<p>5 rows × 28 columns</p>\n",
       "</div>"
      ],
      "text/plain": [
       "   INCIDENT_ID  DATA_YEAR        ORI PUB_AGENCY_NAME PUB_AGENCY_UNIT  \\\n",
       "0         3015       1991  AR0040200          Rogers             NaN   \n",
       "1         3016       1991  AR0290100            Hope             NaN   \n",
       "2           43       1991  AR0350100      Pine Bluff             NaN   \n",
       "3           44       1991  AR0350100      Pine Bluff             NaN   \n",
       "4         3017       1991  AR0350100      Pine Bluff             NaN   \n",
       "\n",
       "  AGENCY_TYPE_NAME STATE_ABBR STATE_NAME       DIVISION_NAME REGION_NAME  ...  \\\n",
       "0             City         AR   Arkansas  West South Central       South  ...   \n",
       "1             City         AR   Arkansas  West South Central       South  ...   \n",
       "2             City         AR   Arkansas  West South Central       South  ...   \n",
       "3             City         AR   Arkansas  West South Central       South  ...   \n",
       "4             City         AR   Arkansas  West South Central       South  ...   \n",
       "\n",
       "               OFFENDER_RACE OFFENDER_ETHNICITY VICTIM_COUNT  \\\n",
       "0                      White                NaN            1   \n",
       "1  Black or African American                NaN            1   \n",
       "2  Black or African American                NaN            1   \n",
       "3  Black or African American                NaN            2   \n",
       "4  Black or African American                NaN            1   \n",
       "\n",
       "                                        OFFENSE_NAME  \\\n",
       "0                                       Intimidation   \n",
       "1                                     Simple Assault   \n",
       "2                                 Aggravated Assault   \n",
       "3  Aggravated Assault;Destruction/Damage/Vandalis...   \n",
       "4                                 Aggravated Assault   \n",
       "\n",
       "   TOTAL_INDIVIDUAL_VICTIMS                       LOCATION_NAME  \\\n",
       "0                       1.0  Highway/Road/Alley/Street/Sidewalk   \n",
       "1                       1.0  Highway/Road/Alley/Street/Sidewalk   \n",
       "2                       1.0                      Residence/Home   \n",
       "3                       1.0  Highway/Road/Alley/Street/Sidewalk   \n",
       "4                       1.0                 Service/Gas Station   \n",
       "\n",
       "                        BIAS_DESC  VICTIM_TYPES MULTIPLE_OFFENSE MULTIPLE_BIAS  \n",
       "0  Anti-Black or African American    Individual                S             S  \n",
       "1                      Anti-White    Individual                S             S  \n",
       "2  Anti-Black or African American    Individual                S             S  \n",
       "3                      Anti-White    Individual                M             S  \n",
       "4                      Anti-White    Individual                S             S  \n",
       "\n",
       "[5 rows x 28 columns]"
      ]
     },
     "execution_count": 1832,
     "metadata": {},
     "output_type": "execute_result"
    }
   ],
   "source": [
    "hc.head() #looking at some values of the data"
   ]
  },
  {
   "cell_type": "code",
   "execution_count": 1833,
   "metadata": {},
   "outputs": [],
   "source": [
    "hc = hc.drop(columns=[\"INCIDENT_ID\",\"ORI\",\"PUB_AGENCY_NAME\",\"POPULATION_GROUP_DESC\",\"INCIDENT_DATE\",\"ADULT_VICTIM_COUNT\",\"JUVENILE_VICTIM_COUNT\",\"POPULATION_GROUP_CODE\",\"ADULT_OFFENDER_COUNT\",\"JUVENILE_OFFENDER_COUNT\",\"TOTAL_INDIVIDUAL_VICTIMS\",\"PUB_AGENCY_UNIT\",\"AGENCY_TYPE_NAME\",\"DIVISION_NAME\",\"OFFENDER_ETHNICITY\",\"LOCATION_NAME\",\"VICTIM_TYPES\",\"MULTIPLE_OFFENSE\",\"MULTIPLE_BIAS\"])  \n",
    "#dropping the coloumns that will not be used"
   ]
  },
  {
   "cell_type": "code",
   "execution_count": 1834,
   "metadata": {},
   "outputs": [
    {
     "data": {
      "text/html": [
       "<div>\n",
       "<style scoped>\n",
       "    .dataframe tbody tr th:only-of-type {\n",
       "        vertical-align: middle;\n",
       "    }\n",
       "\n",
       "    .dataframe tbody tr th {\n",
       "        vertical-align: top;\n",
       "    }\n",
       "\n",
       "    .dataframe thead th {\n",
       "        text-align: right;\n",
       "    }\n",
       "</style>\n",
       "<table border=\"1\" class=\"dataframe\">\n",
       "  <thead>\n",
       "    <tr style=\"text-align: right;\">\n",
       "      <th></th>\n",
       "      <th>DATA_YEAR</th>\n",
       "      <th>STATE_ABBR</th>\n",
       "      <th>STATE_NAME</th>\n",
       "      <th>REGION_NAME</th>\n",
       "      <th>TOTAL_OFFENDER_COUNT</th>\n",
       "      <th>OFFENDER_RACE</th>\n",
       "      <th>VICTIM_COUNT</th>\n",
       "      <th>OFFENSE_NAME</th>\n",
       "      <th>BIAS_DESC</th>\n",
       "    </tr>\n",
       "  </thead>\n",
       "  <tbody>\n",
       "    <tr>\n",
       "      <th>0</th>\n",
       "      <td>1991</td>\n",
       "      <td>AR</td>\n",
       "      <td>Arkansas</td>\n",
       "      <td>South</td>\n",
       "      <td>1</td>\n",
       "      <td>White</td>\n",
       "      <td>1</td>\n",
       "      <td>Intimidation</td>\n",
       "      <td>Anti-Black or African American</td>\n",
       "    </tr>\n",
       "    <tr>\n",
       "      <th>1</th>\n",
       "      <td>1991</td>\n",
       "      <td>AR</td>\n",
       "      <td>Arkansas</td>\n",
       "      <td>South</td>\n",
       "      <td>1</td>\n",
       "      <td>Black or African American</td>\n",
       "      <td>1</td>\n",
       "      <td>Simple Assault</td>\n",
       "      <td>Anti-White</td>\n",
       "    </tr>\n",
       "    <tr>\n",
       "      <th>2</th>\n",
       "      <td>1991</td>\n",
       "      <td>AR</td>\n",
       "      <td>Arkansas</td>\n",
       "      <td>South</td>\n",
       "      <td>1</td>\n",
       "      <td>Black or African American</td>\n",
       "      <td>1</td>\n",
       "      <td>Aggravated Assault</td>\n",
       "      <td>Anti-Black or African American</td>\n",
       "    </tr>\n",
       "    <tr>\n",
       "      <th>3</th>\n",
       "      <td>1991</td>\n",
       "      <td>AR</td>\n",
       "      <td>Arkansas</td>\n",
       "      <td>South</td>\n",
       "      <td>1</td>\n",
       "      <td>Black or African American</td>\n",
       "      <td>2</td>\n",
       "      <td>Aggravated Assault;Destruction/Damage/Vandalis...</td>\n",
       "      <td>Anti-White</td>\n",
       "    </tr>\n",
       "    <tr>\n",
       "      <th>4</th>\n",
       "      <td>1991</td>\n",
       "      <td>AR</td>\n",
       "      <td>Arkansas</td>\n",
       "      <td>South</td>\n",
       "      <td>1</td>\n",
       "      <td>Black or African American</td>\n",
       "      <td>1</td>\n",
       "      <td>Aggravated Assault</td>\n",
       "      <td>Anti-White</td>\n",
       "    </tr>\n",
       "    <tr>\n",
       "      <th>...</th>\n",
       "      <td>...</td>\n",
       "      <td>...</td>\n",
       "      <td>...</td>\n",
       "      <td>...</td>\n",
       "      <td>...</td>\n",
       "      <td>...</td>\n",
       "      <td>...</td>\n",
       "      <td>...</td>\n",
       "      <td>...</td>\n",
       "    </tr>\n",
       "    <tr>\n",
       "      <th>201398</th>\n",
       "      <td>2018</td>\n",
       "      <td>WV</td>\n",
       "      <td>West Virginia</td>\n",
       "      <td>South</td>\n",
       "      <td>0</td>\n",
       "      <td>Unknown</td>\n",
       "      <td>1</td>\n",
       "      <td>Burglary/Breaking &amp; Entering</td>\n",
       "      <td>Anti-Black or African American</td>\n",
       "    </tr>\n",
       "    <tr>\n",
       "      <th>201399</th>\n",
       "      <td>2018</td>\n",
       "      <td>WV</td>\n",
       "      <td>West Virginia</td>\n",
       "      <td>South</td>\n",
       "      <td>1</td>\n",
       "      <td>White</td>\n",
       "      <td>1</td>\n",
       "      <td>Simple Assault</td>\n",
       "      <td>Anti-Black or African American</td>\n",
       "    </tr>\n",
       "    <tr>\n",
       "      <th>201400</th>\n",
       "      <td>2018</td>\n",
       "      <td>WV</td>\n",
       "      <td>West Virginia</td>\n",
       "      <td>South</td>\n",
       "      <td>0</td>\n",
       "      <td>Unknown</td>\n",
       "      <td>1</td>\n",
       "      <td>Intimidation</td>\n",
       "      <td>Anti-Asian</td>\n",
       "    </tr>\n",
       "    <tr>\n",
       "      <th>201401</th>\n",
       "      <td>2018</td>\n",
       "      <td>WV</td>\n",
       "      <td>West Virginia</td>\n",
       "      <td>South</td>\n",
       "      <td>1</td>\n",
       "      <td>White</td>\n",
       "      <td>1</td>\n",
       "      <td>Intimidation</td>\n",
       "      <td>Anti-White</td>\n",
       "    </tr>\n",
       "    <tr>\n",
       "      <th>201402</th>\n",
       "      <td>2018</td>\n",
       "      <td>WV</td>\n",
       "      <td>West Virginia</td>\n",
       "      <td>South</td>\n",
       "      <td>0</td>\n",
       "      <td>Unknown</td>\n",
       "      <td>2</td>\n",
       "      <td>Burglary/Breaking &amp; Entering;Destruction/Damag...</td>\n",
       "      <td>Anti-Other Religion</td>\n",
       "    </tr>\n",
       "  </tbody>\n",
       "</table>\n",
       "<p>201403 rows × 9 columns</p>\n",
       "</div>"
      ],
      "text/plain": [
       "        DATA_YEAR STATE_ABBR     STATE_NAME REGION_NAME  TOTAL_OFFENDER_COUNT  \\\n",
       "0            1991         AR       Arkansas       South                     1   \n",
       "1            1991         AR       Arkansas       South                     1   \n",
       "2            1991         AR       Arkansas       South                     1   \n",
       "3            1991         AR       Arkansas       South                     1   \n",
       "4            1991         AR       Arkansas       South                     1   \n",
       "...           ...        ...            ...         ...                   ...   \n",
       "201398       2018         WV  West Virginia       South                     0   \n",
       "201399       2018         WV  West Virginia       South                     1   \n",
       "201400       2018         WV  West Virginia       South                     0   \n",
       "201401       2018         WV  West Virginia       South                     1   \n",
       "201402       2018         WV  West Virginia       South                     0   \n",
       "\n",
       "                    OFFENDER_RACE  VICTIM_COUNT  \\\n",
       "0                           White             1   \n",
       "1       Black or African American             1   \n",
       "2       Black or African American             1   \n",
       "3       Black or African American             2   \n",
       "4       Black or African American             1   \n",
       "...                           ...           ...   \n",
       "201398                    Unknown             1   \n",
       "201399                      White             1   \n",
       "201400                    Unknown             1   \n",
       "201401                      White             1   \n",
       "201402                    Unknown             2   \n",
       "\n",
       "                                             OFFENSE_NAME  \\\n",
       "0                                            Intimidation   \n",
       "1                                          Simple Assault   \n",
       "2                                      Aggravated Assault   \n",
       "3       Aggravated Assault;Destruction/Damage/Vandalis...   \n",
       "4                                      Aggravated Assault   \n",
       "...                                                   ...   \n",
       "201398                       Burglary/Breaking & Entering   \n",
       "201399                                     Simple Assault   \n",
       "201400                                       Intimidation   \n",
       "201401                                       Intimidation   \n",
       "201402  Burglary/Breaking & Entering;Destruction/Damag...   \n",
       "\n",
       "                             BIAS_DESC  \n",
       "0       Anti-Black or African American  \n",
       "1                           Anti-White  \n",
       "2       Anti-Black or African American  \n",
       "3                           Anti-White  \n",
       "4                           Anti-White  \n",
       "...                                ...  \n",
       "201398  Anti-Black or African American  \n",
       "201399  Anti-Black or African American  \n",
       "201400                      Anti-Asian  \n",
       "201401                      Anti-White  \n",
       "201402             Anti-Other Religion  \n",
       "\n",
       "[201403 rows x 9 columns]"
      ]
     },
     "execution_count": 1834,
     "metadata": {},
     "output_type": "execute_result"
    }
   ],
   "source": [
    "hc"
   ]
  },
  {
   "cell_type": "code",
   "execution_count": 1835,
   "metadata": {},
   "outputs": [
    {
     "data": {
      "text/plain": [
       "DATA_YEAR                0\n",
       "STATE_ABBR               0\n",
       "STATE_NAME               0\n",
       "REGION_NAME              0\n",
       "TOTAL_OFFENDER_COUNT     0\n",
       "OFFENDER_RACE           19\n",
       "VICTIM_COUNT             0\n",
       "OFFENSE_NAME             0\n",
       "BIAS_DESC                0\n",
       "dtype: int64"
      ]
     },
     "execution_count": 1835,
     "metadata": {},
     "output_type": "execute_result"
    }
   ],
   "source": [
    "hc.isnull().sum()  #checking for null values"
   ]
  },
  {
   "cell_type": "code",
   "execution_count": 1836,
   "metadata": {},
   "outputs": [
    {
     "data": {
      "text/html": [
       "<div>\n",
       "<style scoped>\n",
       "    .dataframe tbody tr th:only-of-type {\n",
       "        vertical-align: middle;\n",
       "    }\n",
       "\n",
       "    .dataframe tbody tr th {\n",
       "        vertical-align: top;\n",
       "    }\n",
       "\n",
       "    .dataframe thead th {\n",
       "        text-align: right;\n",
       "    }\n",
       "</style>\n",
       "<table border=\"1\" class=\"dataframe\">\n",
       "  <thead>\n",
       "    <tr style=\"text-align: right;\">\n",
       "      <th></th>\n",
       "      <th>DATA_YEAR</th>\n",
       "      <th>STATE_ABBR</th>\n",
       "      <th>STATE_NAME</th>\n",
       "      <th>REGION_NAME</th>\n",
       "      <th>TOTAL_OFFENDER_COUNT</th>\n",
       "      <th>OFFENDER_RACE</th>\n",
       "      <th>VICTIM_COUNT</th>\n",
       "      <th>OFFENSE_NAME</th>\n",
       "      <th>BIAS_DESC</th>\n",
       "    </tr>\n",
       "  </thead>\n",
       "  <tbody>\n",
       "    <tr>\n",
       "      <th>0</th>\n",
       "      <td>1991</td>\n",
       "      <td>AR</td>\n",
       "      <td>Arkansas</td>\n",
       "      <td>South</td>\n",
       "      <td>1</td>\n",
       "      <td>White</td>\n",
       "      <td>1</td>\n",
       "      <td>Intimidation</td>\n",
       "      <td>Anti-Black or African American</td>\n",
       "    </tr>\n",
       "    <tr>\n",
       "      <th>1</th>\n",
       "      <td>1991</td>\n",
       "      <td>AR</td>\n",
       "      <td>Arkansas</td>\n",
       "      <td>South</td>\n",
       "      <td>1</td>\n",
       "      <td>Black or African American</td>\n",
       "      <td>1</td>\n",
       "      <td>Simple Assault</td>\n",
       "      <td>Anti-White</td>\n",
       "    </tr>\n",
       "    <tr>\n",
       "      <th>2</th>\n",
       "      <td>1991</td>\n",
       "      <td>AR</td>\n",
       "      <td>Arkansas</td>\n",
       "      <td>South</td>\n",
       "      <td>1</td>\n",
       "      <td>Black or African American</td>\n",
       "      <td>1</td>\n",
       "      <td>Aggravated Assault</td>\n",
       "      <td>Anti-Black or African American</td>\n",
       "    </tr>\n",
       "    <tr>\n",
       "      <th>3</th>\n",
       "      <td>1991</td>\n",
       "      <td>AR</td>\n",
       "      <td>Arkansas</td>\n",
       "      <td>South</td>\n",
       "      <td>1</td>\n",
       "      <td>Black or African American</td>\n",
       "      <td>2</td>\n",
       "      <td>Aggravated Assault;Destruction/Damage/Vandalis...</td>\n",
       "      <td>Anti-White</td>\n",
       "    </tr>\n",
       "    <tr>\n",
       "      <th>4</th>\n",
       "      <td>1991</td>\n",
       "      <td>AR</td>\n",
       "      <td>Arkansas</td>\n",
       "      <td>South</td>\n",
       "      <td>1</td>\n",
       "      <td>Black or African American</td>\n",
       "      <td>1</td>\n",
       "      <td>Aggravated Assault</td>\n",
       "      <td>Anti-White</td>\n",
       "    </tr>\n",
       "    <tr>\n",
       "      <th>...</th>\n",
       "      <td>...</td>\n",
       "      <td>...</td>\n",
       "      <td>...</td>\n",
       "      <td>...</td>\n",
       "      <td>...</td>\n",
       "      <td>...</td>\n",
       "      <td>...</td>\n",
       "      <td>...</td>\n",
       "      <td>...</td>\n",
       "    </tr>\n",
       "    <tr>\n",
       "      <th>201398</th>\n",
       "      <td>2018</td>\n",
       "      <td>WV</td>\n",
       "      <td>West Virginia</td>\n",
       "      <td>South</td>\n",
       "      <td>0</td>\n",
       "      <td>Unknown</td>\n",
       "      <td>1</td>\n",
       "      <td>Burglary/Breaking &amp; Entering</td>\n",
       "      <td>Anti-Black or African American</td>\n",
       "    </tr>\n",
       "    <tr>\n",
       "      <th>201399</th>\n",
       "      <td>2018</td>\n",
       "      <td>WV</td>\n",
       "      <td>West Virginia</td>\n",
       "      <td>South</td>\n",
       "      <td>1</td>\n",
       "      <td>White</td>\n",
       "      <td>1</td>\n",
       "      <td>Simple Assault</td>\n",
       "      <td>Anti-Black or African American</td>\n",
       "    </tr>\n",
       "    <tr>\n",
       "      <th>201400</th>\n",
       "      <td>2018</td>\n",
       "      <td>WV</td>\n",
       "      <td>West Virginia</td>\n",
       "      <td>South</td>\n",
       "      <td>0</td>\n",
       "      <td>Unknown</td>\n",
       "      <td>1</td>\n",
       "      <td>Intimidation</td>\n",
       "      <td>Anti-Asian</td>\n",
       "    </tr>\n",
       "    <tr>\n",
       "      <th>201401</th>\n",
       "      <td>2018</td>\n",
       "      <td>WV</td>\n",
       "      <td>West Virginia</td>\n",
       "      <td>South</td>\n",
       "      <td>1</td>\n",
       "      <td>White</td>\n",
       "      <td>1</td>\n",
       "      <td>Intimidation</td>\n",
       "      <td>Anti-White</td>\n",
       "    </tr>\n",
       "    <tr>\n",
       "      <th>201402</th>\n",
       "      <td>2018</td>\n",
       "      <td>WV</td>\n",
       "      <td>West Virginia</td>\n",
       "      <td>South</td>\n",
       "      <td>0</td>\n",
       "      <td>Unknown</td>\n",
       "      <td>2</td>\n",
       "      <td>Burglary/Breaking &amp; Entering;Destruction/Damag...</td>\n",
       "      <td>Anti-Other Religion</td>\n",
       "    </tr>\n",
       "  </tbody>\n",
       "</table>\n",
       "<p>201384 rows × 9 columns</p>\n",
       "</div>"
      ],
      "text/plain": [
       "        DATA_YEAR STATE_ABBR     STATE_NAME REGION_NAME  TOTAL_OFFENDER_COUNT  \\\n",
       "0            1991         AR       Arkansas       South                     1   \n",
       "1            1991         AR       Arkansas       South                     1   \n",
       "2            1991         AR       Arkansas       South                     1   \n",
       "3            1991         AR       Arkansas       South                     1   \n",
       "4            1991         AR       Arkansas       South                     1   \n",
       "...           ...        ...            ...         ...                   ...   \n",
       "201398       2018         WV  West Virginia       South                     0   \n",
       "201399       2018         WV  West Virginia       South                     1   \n",
       "201400       2018         WV  West Virginia       South                     0   \n",
       "201401       2018         WV  West Virginia       South                     1   \n",
       "201402       2018         WV  West Virginia       South                     0   \n",
       "\n",
       "                    OFFENDER_RACE  VICTIM_COUNT  \\\n",
       "0                           White             1   \n",
       "1       Black or African American             1   \n",
       "2       Black or African American             1   \n",
       "3       Black or African American             2   \n",
       "4       Black or African American             1   \n",
       "...                           ...           ...   \n",
       "201398                    Unknown             1   \n",
       "201399                      White             1   \n",
       "201400                    Unknown             1   \n",
       "201401                      White             1   \n",
       "201402                    Unknown             2   \n",
       "\n",
       "                                             OFFENSE_NAME  \\\n",
       "0                                            Intimidation   \n",
       "1                                          Simple Assault   \n",
       "2                                      Aggravated Assault   \n",
       "3       Aggravated Assault;Destruction/Damage/Vandalis...   \n",
       "4                                      Aggravated Assault   \n",
       "...                                                   ...   \n",
       "201398                       Burglary/Breaking & Entering   \n",
       "201399                                     Simple Assault   \n",
       "201400                                       Intimidation   \n",
       "201401                                       Intimidation   \n",
       "201402  Burglary/Breaking & Entering;Destruction/Damag...   \n",
       "\n",
       "                             BIAS_DESC  \n",
       "0       Anti-Black or African American  \n",
       "1                           Anti-White  \n",
       "2       Anti-Black or African American  \n",
       "3                           Anti-White  \n",
       "4                           Anti-White  \n",
       "...                                ...  \n",
       "201398  Anti-Black or African American  \n",
       "201399  Anti-Black or African American  \n",
       "201400                      Anti-Asian  \n",
       "201401                      Anti-White  \n",
       "201402             Anti-Other Religion  \n",
       "\n",
       "[201384 rows x 9 columns]"
      ]
     },
     "execution_count": 1836,
     "metadata": {},
     "output_type": "execute_result"
    }
   ],
   "source": [
    "hc.dropna(0, how=\"any\") #dropping rows containing null values "
   ]
  },
  {
   "cell_type": "code",
   "execution_count": 1837,
   "metadata": {
    "scrolled": true
   },
   "outputs": [
    {
     "data": {
      "text/plain": [
       "DATA_YEAR                int64\n",
       "STATE_ABBR              object\n",
       "STATE_NAME              object\n",
       "REGION_NAME             object\n",
       "TOTAL_OFFENDER_COUNT     int64\n",
       "OFFENDER_RACE           object\n",
       "VICTIM_COUNT             int64\n",
       "OFFENSE_NAME            object\n",
       "BIAS_DESC               object\n",
       "dtype: object"
      ]
     },
     "execution_count": 1837,
     "metadata": {},
     "output_type": "execute_result"
    }
   ],
   "source": [
    "hc.dtypes #checking the data types of each column"
   ]
  },
  {
   "cell_type": "code",
   "execution_count": 1838,
   "metadata": {
    "scrolled": true
   },
   "outputs": [
    {
     "data": {
      "text/plain": [
       "array(['Arkansas', 'Arizona', 'California', 'Colorado', 'Connecticut',\n",
       "       'District of Columbia', 'Delaware', 'Georgia', 'Iowa', 'Idaho',\n",
       "       'Illinois', 'Kansas', 'Massachusetts', 'Maryland', 'Minnesota',\n",
       "       'Missouri', 'Mississippi', 'New Jersey', 'Nevada', 'New York',\n",
       "       'Ohio', 'Oklahoma', 'Oregon', 'Pennsylvania', 'Tennessee', 'Texas',\n",
       "       'Virginia', 'Washington', 'Wisconsin', 'Alabama', 'Florida',\n",
       "       'Indiana', 'Kentucky', 'Louisiana', 'Maine', 'Michigan',\n",
       "       'North Carolina', 'North Dakota', 'Rhode Island', 'South Carolina',\n",
       "       'Utah', 'Wyoming', 'Alaska', 'Montana', 'New Mexico',\n",
       "       'South Dakota', 'Vermont', 'New Hampshire', 'Nebraska',\n",
       "       'West Virginia', 'Guam', 'Federal', 'Hawaii'], dtype=object)"
      ]
     },
     "execution_count": 1838,
     "metadata": {},
     "output_type": "execute_result"
    }
   ],
   "source": [
    "hc['STATE_NAME'].unique()"
   ]
  },
  {
   "cell_type": "code",
   "execution_count": 1839,
   "metadata": {},
   "outputs": [],
   "source": [
    "hc[\"DATA_YEAR\"]=hc[\"DATA_YEAR\"].astype('object') #changing the data type of DATA_YEAR from int64 to an object"
   ]
  },
  {
   "cell_type": "code",
   "execution_count": 1840,
   "metadata": {},
   "outputs": [
    {
     "data": {
      "text/plain": [
       "DATA_YEAR               object\n",
       "STATE_ABBR              object\n",
       "STATE_NAME              object\n",
       "REGION_NAME             object\n",
       "TOTAL_OFFENDER_COUNT     int64\n",
       "OFFENDER_RACE           object\n",
       "VICTIM_COUNT             int64\n",
       "OFFENSE_NAME            object\n",
       "BIAS_DESC               object\n",
       "dtype: object"
      ]
     },
     "execution_count": 1840,
     "metadata": {},
     "output_type": "execute_result"
    }
   ],
   "source": [
    "hc.dtypes"
   ]
  },
  {
   "cell_type": "markdown",
   "metadata": {},
   "source": [
    "# First Visualization\n"
   ]
  },
  {
   "cell_type": "markdown",
   "metadata": {},
   "source": [
    "Each states number of hate crimes over the years (1991-2018) per 100000 of it's population"
   ]
  },
  {
   "cell_type": "code",
   "execution_count": 1841,
   "metadata": {},
   "outputs": [],
   "source": [
    "hc_1=  hc[['DATA_YEAR','STATE_NAME','STATE_ABBR']] #taking a subset of the date"
   ]
  },
  {
   "cell_type": "code",
   "execution_count": 1842,
   "metadata": {},
   "outputs": [],
   "source": [
    "hc_1 = hc_1.groupby(['DATA_YEAR','STATE_NAME']).count() #grouping by DATA_YEAR and STATE_ABBR"
   ]
  },
  {
   "cell_type": "code",
   "execution_count": 1843,
   "metadata": {},
   "outputs": [],
   "source": [
    "hc_1= hc_1.rename(columns={'STATE_ABBR':'no_of_incidents'}) #renaming the column of the count of hate crimes"
   ]
  },
  {
   "cell_type": "code",
   "execution_count": 1844,
   "metadata": {},
   "outputs": [],
   "source": [
    "hc_1 = hc_1.add_suffix('').reset_index() #turning it from a hierarchical index to a normal index\n",
    "hc_1[\"DATA_YEAR\"]=hc_1[\"DATA_YEAR\"].astype('object')"
   ]
  },
  {
   "cell_type": "code",
   "execution_count": 1845,
   "metadata": {},
   "outputs": [],
   "source": [
    "dfs= pd.read_html(\"https://en.wikipedia.org/wiki/List_of_U.S._states_and_territories_by_historical_population\") #parsing html file for US population"
   ]
  },
  {
   "cell_type": "code",
   "execution_count": 1846,
   "metadata": {},
   "outputs": [
    {
     "data": {
      "text/plain": [
       "8"
      ]
     },
     "execution_count": 1846,
     "metadata": {},
     "output_type": "execute_result"
    }
   ],
   "source": [
    "len(dfs) #seeing how many of dataframes that were found in the html page"
   ]
  },
  {
   "cell_type": "code",
   "execution_count": 1847,
   "metadata": {},
   "outputs": [],
   "source": [
    "US_POP= dfs[3] #choosing the the dataframe that we will use "
   ]
  },
  {
   "cell_type": "code",
   "execution_count": 1848,
   "metadata": {},
   "outputs": [],
   "source": [
    "US_POP = US_POP.drop(columns=['1960','1970','1990','1980','2010','2020']) #dropping columns that will not be used\n",
    "US_POP = US_POP[:-1] #dropping rows that will not be used"
   ]
  },
  {
   "cell_type": "code",
   "execution_count": 1849,
   "metadata": {},
   "outputs": [],
   "source": [
    "US_POP.columns= ['STATE_NAME','POPULATION'] #renaming the columns"
   ]
  },
  {
   "cell_type": "code",
   "execution_count": 1850,
   "metadata": {},
   "outputs": [],
   "source": [
    "hc_1 = pd.merge(hc_1, US_POP, on =\"STATE_NAME\") #merging the two dataframes"
   ]
  },
  {
   "cell_type": "code",
   "execution_count": 1851,
   "metadata": {},
   "outputs": [],
   "source": [
    "i = hc_1[((hc_1.STATE_NAME == 'Guam') )].index\n",
    "hc_1.drop([1332, 1333], inplace= True)"
   ]
  },
  {
   "cell_type": "code",
   "execution_count": 1852,
   "metadata": {},
   "outputs": [],
   "source": [
    "hc_1[\"POPULATION\"]=hc_1[\"POPULATION\"].astype('float') #changing the data type of POPULATION"
   ]
  },
  {
   "cell_type": "code",
   "execution_count": 1853,
   "metadata": {},
   "outputs": [],
   "source": [
    "hc_1['Normalized_value']= hc_1.apply(lambda row: (row.no_of_incidents/row.POPULATION)*100000, axis = 1) #creating a new column and filling it with the mornalized value"
   ]
  },
  {
   "cell_type": "code",
   "execution_count": 1854,
   "metadata": {},
   "outputs": [
    {
     "data": {
      "text/html": [
       "<div>\n",
       "<style scoped>\n",
       "    .dataframe tbody tr th:only-of-type {\n",
       "        vertical-align: middle;\n",
       "    }\n",
       "\n",
       "    .dataframe tbody tr th {\n",
       "        vertical-align: top;\n",
       "    }\n",
       "\n",
       "    .dataframe thead th {\n",
       "        text-align: right;\n",
       "    }\n",
       "</style>\n",
       "<table border=\"1\" class=\"dataframe\">\n",
       "  <thead>\n",
       "    <tr style=\"text-align: right;\">\n",
       "      <th></th>\n",
       "      <th>DATA_YEAR</th>\n",
       "      <th>STATE_NAME</th>\n",
       "      <th>no_of_incidents</th>\n",
       "      <th>POPULATION</th>\n",
       "      <th>Normalized_value</th>\n",
       "    </tr>\n",
       "  </thead>\n",
       "  <tbody>\n",
       "    <tr>\n",
       "      <th>0</th>\n",
       "      <td>1991</td>\n",
       "      <td>Arizona</td>\n",
       "      <td>48</td>\n",
       "      <td>5130632.0</td>\n",
       "      <td>0.935557</td>\n",
       "    </tr>\n",
       "    <tr>\n",
       "      <th>1</th>\n",
       "      <td>1992</td>\n",
       "      <td>Arizona</td>\n",
       "      <td>172</td>\n",
       "      <td>5130632.0</td>\n",
       "      <td>3.352414</td>\n",
       "    </tr>\n",
       "    <tr>\n",
       "      <th>2</th>\n",
       "      <td>1993</td>\n",
       "      <td>Arizona</td>\n",
       "      <td>208</td>\n",
       "      <td>5130632.0</td>\n",
       "      <td>4.054081</td>\n",
       "    </tr>\n",
       "    <tr>\n",
       "      <th>3</th>\n",
       "      <td>1994</td>\n",
       "      <td>Arizona</td>\n",
       "      <td>205</td>\n",
       "      <td>5130632.0</td>\n",
       "      <td>3.995609</td>\n",
       "    </tr>\n",
       "    <tr>\n",
       "      <th>4</th>\n",
       "      <td>1995</td>\n",
       "      <td>Arizona</td>\n",
       "      <td>220</td>\n",
       "      <td>5130632.0</td>\n",
       "      <td>4.287971</td>\n",
       "    </tr>\n",
       "    <tr>\n",
       "      <th>...</th>\n",
       "      <td>...</td>\n",
       "      <td>...</td>\n",
       "      <td>...</td>\n",
       "      <td>...</td>\n",
       "      <td>...</td>\n",
       "    </tr>\n",
       "    <tr>\n",
       "      <th>1328</th>\n",
       "      <td>2015</td>\n",
       "      <td>West Virginia</td>\n",
       "      <td>42</td>\n",
       "      <td>1808344.0</td>\n",
       "      <td>2.322567</td>\n",
       "    </tr>\n",
       "    <tr>\n",
       "      <th>1329</th>\n",
       "      <td>2016</td>\n",
       "      <td>West Virginia</td>\n",
       "      <td>41</td>\n",
       "      <td>1808344.0</td>\n",
       "      <td>2.267268</td>\n",
       "    </tr>\n",
       "    <tr>\n",
       "      <th>1330</th>\n",
       "      <td>2017</td>\n",
       "      <td>West Virginia</td>\n",
       "      <td>38</td>\n",
       "      <td>1808344.0</td>\n",
       "      <td>2.101370</td>\n",
       "    </tr>\n",
       "    <tr>\n",
       "      <th>1331</th>\n",
       "      <td>2018</td>\n",
       "      <td>West Virginia</td>\n",
       "      <td>95</td>\n",
       "      <td>1808344.0</td>\n",
       "      <td>5.253425</td>\n",
       "    </tr>\n",
       "    <tr>\n",
       "      <th>1334</th>\n",
       "      <td>2018</td>\n",
       "      <td>Hawaii</td>\n",
       "      <td>44</td>\n",
       "      <td>1211537.0</td>\n",
       "      <td>3.631750</td>\n",
       "    </tr>\n",
       "  </tbody>\n",
       "</table>\n",
       "<p>1333 rows × 5 columns</p>\n",
       "</div>"
      ],
      "text/plain": [
       "     DATA_YEAR     STATE_NAME  no_of_incidents  POPULATION  Normalized_value\n",
       "0         1991        Arizona               48   5130632.0          0.935557\n",
       "1         1992        Arizona              172   5130632.0          3.352414\n",
       "2         1993        Arizona              208   5130632.0          4.054081\n",
       "3         1994        Arizona              205   5130632.0          3.995609\n",
       "4         1995        Arizona              220   5130632.0          4.287971\n",
       "...        ...            ...              ...         ...               ...\n",
       "1328      2015  West Virginia               42   1808344.0          2.322567\n",
       "1329      2016  West Virginia               41   1808344.0          2.267268\n",
       "1330      2017  West Virginia               38   1808344.0          2.101370\n",
       "1331      2018  West Virginia               95   1808344.0          5.253425\n",
       "1334      2018         Hawaii               44   1211537.0          3.631750\n",
       "\n",
       "[1333 rows x 5 columns]"
      ]
     },
     "execution_count": 1854,
     "metadata": {},
     "output_type": "execute_result"
    }
   ],
   "source": [
    "hc_1"
   ]
  },
  {
   "cell_type": "code",
   "execution_count": 1855,
   "metadata": {},
   "outputs": [],
   "source": [
    "us_states= json.load(open(\"us_states.json\",\"r\")) #reading the geojson file"
   ]
  },
  {
   "cell_type": "code",
   "execution_count": 1856,
   "metadata": {},
   "outputs": [
    {
     "data": {
      "text/plain": [
       "{'GEO_ID': '0400000US01',\n",
       " 'STATE': '01',\n",
       " 'NAME': 'Alabama',\n",
       " 'LSAD': '',\n",
       " 'CENSUSAREA': 50645.326}"
      ]
     },
     "execution_count": 1856,
     "metadata": {},
     "output_type": "execute_result"
    }
   ],
   "source": [
    "us_states['features'][0]['properties'] #searching for a unique id to use for each state"
   ]
  },
  {
   "cell_type": "code",
   "execution_count": 1857,
   "metadata": {},
   "outputs": [],
   "source": [
    "state_id_map={} #creating a dictionary to map the id into my df\n",
    "\n",
    "for feature in us_states['features']: #mapping every state to a unique id \n",
    "    feature['id']= feature['properties']['STATE'] \n",
    "    state_id_map[feature['properties']['NAME']] = feature['id']\n"
   ]
  },
  {
   "cell_type": "code",
   "execution_count": 1858,
   "metadata": {
    "scrolled": true
   },
   "outputs": [
    {
     "data": {
      "text/plain": [
       "{'Alabama': '01',\n",
       " 'Alaska': '02',\n",
       " 'Arizona': '04',\n",
       " 'Arkansas': '05',\n",
       " 'California': '06',\n",
       " 'Colorado': '08',\n",
       " 'Connecticut': '09',\n",
       " 'Delaware': '10',\n",
       " 'District of Columbia': '11',\n",
       " 'Florida': '12',\n",
       " 'Georgia': '13',\n",
       " 'Hawaii': '15',\n",
       " 'Idaho': '16',\n",
       " 'Illinois': '17',\n",
       " 'Indiana': '18',\n",
       " 'Iowa': '19',\n",
       " 'Kansas': '20',\n",
       " 'Kentucky': '21',\n",
       " 'Louisiana': '22',\n",
       " 'Maine': '23',\n",
       " 'Maryland': '24',\n",
       " 'Massachusetts': '25',\n",
       " 'Michigan': '26',\n",
       " 'Minnesota': '27',\n",
       " 'Mississippi': '28',\n",
       " 'Missouri': '29',\n",
       " 'Montana': '30',\n",
       " 'Nebraska': '31',\n",
       " 'Nevada': '32',\n",
       " 'New Hampshire': '33',\n",
       " 'New Jersey': '34',\n",
       " 'New Mexico': '35',\n",
       " 'New York': '36',\n",
       " 'North Carolina': '37',\n",
       " 'North Dakota': '38',\n",
       " 'Ohio': '39',\n",
       " 'Oklahoma': '40',\n",
       " 'Oregon': '41',\n",
       " 'Pennsylvania': '42',\n",
       " 'Rhode Island': '44',\n",
       " 'South Carolina': '45',\n",
       " 'South Dakota': '46',\n",
       " 'Tennessee': '47',\n",
       " 'Texas': '48',\n",
       " 'Utah': '49',\n",
       " 'Vermont': '50',\n",
       " 'Virginia': '51',\n",
       " 'Washington': '53',\n",
       " 'West Virginia': '54',\n",
       " 'Wisconsin': '55',\n",
       " 'Wyoming': '56',\n",
       " 'Puerto Rico': '72'}"
      ]
     },
     "execution_count": 1858,
     "metadata": {},
     "output_type": "execute_result"
    }
   ],
   "source": [
    "state_id_map "
   ]
  },
  {
   "cell_type": "code",
   "execution_count": 1859,
   "metadata": {},
   "outputs": [],
   "source": [
    "hc_1['id']= hc_1['STATE_NAME'].apply(lambda x: state_id_map[x]) #adding the id column "
   ]
  },
  {
   "cell_type": "code",
   "execution_count": 1860,
   "metadata": {},
   "outputs": [],
   "source": [
    "hc_1['scale']= np.log10(hc_1['no_of_incidents']) #creating a scale for the figure"
   ]
  },
  {
   "cell_type": "code",
   "execution_count": 1861,
   "metadata": {
    "scrolled": true
   },
   "outputs": [],
   "source": [
    "#creating the choropleth map\n",
    "fig1 = px.choropleth(hc_1, locations='id', geojson=us_states, color='scale',color_continuous_scale=\"Viridis\",animation_frame=\"DATA_YEAR\",hover_name='STATE_NAME',hover_data=['Normalized_value'],scope=\"usa\")\n",
    "fig1[\"layout\"].pop(\"updatemenus\")\n",
    "fig1.show() \n"
   ]
  },
  {
   "cell_type": "markdown",
   "metadata": {},
   "source": [
    "# Second Visualization"
   ]
  },
  {
   "cell_type": "markdown",
   "metadata": {},
   "source": [
    "The bias of the offenders from the years (1991-2001)"
   ]
  },
  {
   "cell_type": "code",
   "execution_count": 1862,
   "metadata": {},
   "outputs": [],
   "source": [
    "hc_2 = hc[['DATA_YEAR','BIAS_DESC']] #taking a subset of data "
   ]
  },
  {
   "cell_type": "code",
   "execution_count": 1863,
   "metadata": {},
   "outputs": [],
   "source": [
    "hc_2 = hc_2.groupby('BIAS_DESC').count() #counting the number of crimes for each type of BIAS_DESC"
   ]
  },
  {
   "cell_type": "code",
   "execution_count": 1864,
   "metadata": {},
   "outputs": [],
   "source": [
    "hc_2.rename(columns={'DATA_YEAR':'count'}, inplace= True) #renaming the column"
   ]
  },
  {
   "cell_type": "code",
   "execution_count": 1865,
   "metadata": {},
   "outputs": [],
   "source": [
    "hc_2 = hc_2.sort_values(by='count', ascending= False) #rearranging them in a descending order "
   ]
  },
  {
   "cell_type": "code",
   "execution_count": 1866,
   "metadata": {},
   "outputs": [],
   "source": [
    "hc_2= hc_2.head(10) #taking the 10 first items in the list"
   ]
  },
  {
   "cell_type": "code",
   "execution_count": 1867,
   "metadata": {},
   "outputs": [
    {
     "data": {
      "text/html": [
       "<div>\n",
       "<style scoped>\n",
       "    .dataframe tbody tr th:only-of-type {\n",
       "        vertical-align: middle;\n",
       "    }\n",
       "\n",
       "    .dataframe tbody tr th {\n",
       "        vertical-align: top;\n",
       "    }\n",
       "\n",
       "    .dataframe thead th {\n",
       "        text-align: right;\n",
       "    }\n",
       "</style>\n",
       "<table border=\"1\" class=\"dataframe\">\n",
       "  <thead>\n",
       "    <tr style=\"text-align: right;\">\n",
       "      <th></th>\n",
       "      <th>count</th>\n",
       "    </tr>\n",
       "    <tr>\n",
       "      <th>BIAS_DESC</th>\n",
       "      <th></th>\n",
       "    </tr>\n",
       "  </thead>\n",
       "  <tbody>\n",
       "    <tr>\n",
       "      <th>Anti-Black or African American</th>\n",
       "      <td>69056</td>\n",
       "    </tr>\n",
       "    <tr>\n",
       "      <th>Anti-Jewish</th>\n",
       "      <td>26109</td>\n",
       "    </tr>\n",
       "    <tr>\n",
       "      <th>Anti-White</th>\n",
       "      <td>23345</td>\n",
       "    </tr>\n",
       "    <tr>\n",
       "      <th>Anti-Gay (Male)</th>\n",
       "      <td>20316</td>\n",
       "    </tr>\n",
       "    <tr>\n",
       "      <th>Anti-Hispanic or Latino</th>\n",
       "      <td>12837</td>\n",
       "    </tr>\n",
       "    <tr>\n",
       "      <th>Anti-Other Race/Ethnicity/Ancestry</th>\n",
       "      <td>10101</td>\n",
       "    </tr>\n",
       "    <tr>\n",
       "      <th>Anti-Lesbian, Gay, Bisexual, or Transgender (Mixed Group)</th>\n",
       "      <td>6077</td>\n",
       "    </tr>\n",
       "    <tr>\n",
       "      <th>Anti-Asian</th>\n",
       "      <td>5913</td>\n",
       "    </tr>\n",
       "    <tr>\n",
       "      <th>Anti-Multiple Races, Group</th>\n",
       "      <td>4854</td>\n",
       "    </tr>\n",
       "    <tr>\n",
       "      <th>Anti-Lesbian (Female)</th>\n",
       "      <td>4266</td>\n",
       "    </tr>\n",
       "  </tbody>\n",
       "</table>\n",
       "</div>"
      ],
      "text/plain": [
       "                                                    count\n",
       "BIAS_DESC                                                \n",
       "Anti-Black or African American                      69056\n",
       "Anti-Jewish                                         26109\n",
       "Anti-White                                          23345\n",
       "Anti-Gay (Male)                                     20316\n",
       "Anti-Hispanic or Latino                             12837\n",
       "Anti-Other Race/Ethnicity/Ancestry                  10101\n",
       "Anti-Lesbian, Gay, Bisexual, or Transgender (Mi...   6077\n",
       "Anti-Asian                                           5913\n",
       "Anti-Multiple Races, Group                           4854\n",
       "Anti-Lesbian (Female)                                4266"
      ]
     },
     "execution_count": 1867,
     "metadata": {},
     "output_type": "execute_result"
    }
   ],
   "source": [
    "hc_2"
   ]
  },
  {
   "cell_type": "code",
   "execution_count": 1868,
   "metadata": {},
   "outputs": [],
   "source": [
    "fig2= px.bar(hc_2, y='count') #creating the figure\n",
    "fig2.show() "
   ]
  },
  {
   "cell_type": "markdown",
   "metadata": {},
   "source": [
    "# Third Visualization"
   ]
  },
  {
   "cell_type": "markdown",
   "metadata": {},
   "source": [
    "The number of hate crimes over the years(1991-2018)"
   ]
  },
  {
   "cell_type": "code",
   "execution_count": 1869,
   "metadata": {},
   "outputs": [],
   "source": [
    "hc_3 = hc[['DATA_YEAR','STATE_NAME']] #taking a subset of the data"
   ]
  },
  {
   "cell_type": "code",
   "execution_count": 1870,
   "metadata": {},
   "outputs": [],
   "source": [
    "hc_3 = hc_3.groupby('DATA_YEAR').count() #grouping by DATA_YEAR"
   ]
  },
  {
   "cell_type": "code",
   "execution_count": 1871,
   "metadata": {},
   "outputs": [],
   "source": [
    "hc_3.columns= ['count']#renaming the column"
   ]
  },
  {
   "cell_type": "code",
   "execution_count": 1872,
   "metadata": {},
   "outputs": [],
   "source": [
    "labels={\"count\":\"Count in thousands\"} #creating the figure\n",
    "fig3 = px.line(hc_3, x=x, y=\"count\", labels=labels ,title='The number of hate crimes over the years(1991-2018)')\n",
    "fig3.show()"
   ]
  },
  {
   "cell_type": "markdown",
   "metadata": {},
   "source": [
    "# Fourth Visualization"
   ]
  },
  {
   "cell_type": "markdown",
   "metadata": {},
   "source": [
    "The type of offenses that was most predominant over the years(1991-2018)"
   ]
  },
  {
   "cell_type": "code",
   "execution_count": 1873,
   "metadata": {},
   "outputs": [],
   "source": [
    "hc_4 = hc[['OFFENSE_NAME','STATE_NAME']] #taking a subset of the data"
   ]
  },
  {
   "cell_type": "code",
   "execution_count": 1874,
   "metadata": {},
   "outputs": [],
   "source": [
    "hc_4= hc_4.groupby('OFFENSE_NAME').count() #grouping by OFFENSE_NAME"
   ]
  },
  {
   "cell_type": "code",
   "execution_count": 1875,
   "metadata": {},
   "outputs": [],
   "source": [
    "hc_4.columns= ['count'] #renaming the column"
   ]
  },
  {
   "cell_type": "code",
   "execution_count": 1876,
   "metadata": {},
   "outputs": [],
   "source": [
    "hc_4 = hc_4.sort_values(by='count', ascending= False) #rearranging them in a descending order "
   ]
  },
  {
   "cell_type": "code",
   "execution_count": 1877,
   "metadata": {},
   "outputs": [],
   "source": [
    "hc_4 = hc_4.head(10) #taking the 10 first items in the list"
   ]
  },
  {
   "cell_type": "code",
   "execution_count": 1878,
   "metadata": {},
   "outputs": [],
   "source": [
    "names=hc_4.index #putting the name that will be used in a list\n",
    "fig4= px.pie(hc_4, names= names,values= hc_4['count'],color='count') #creating the figure\n",
    "fig4.show()"
   ]
  },
  {
   "cell_type": "markdown",
   "metadata": {},
   "source": [
    "# Fifth Visualization"
   ]
  },
  {
   "cell_type": "markdown",
   "metadata": {},
   "source": [
    "The race with the highest number of offenders in 100000 of it's population"
   ]
  },
  {
   "cell_type": "code",
   "execution_count": 1879,
   "metadata": {},
   "outputs": [],
   "source": [
    "hc_5= hc[['OFFENDER_RACE','STATE_NAME']] #taking a subset of the data"
   ]
  },
  {
   "cell_type": "code",
   "execution_count": 1880,
   "metadata": {},
   "outputs": [],
   "source": [
    "hc_5= hc_5.groupby('OFFENDER_RACE').count() #grouping by OFFENDER_RACE"
   ]
  },
  {
   "cell_type": "code",
   "execution_count": 1881,
   "metadata": {},
   "outputs": [],
   "source": [
    "hc_5.columns= ['count'] #renaming the column"
   ]
  },
  {
   "cell_type": "code",
   "execution_count": 1882,
   "metadata": {},
   "outputs": [],
   "source": [
    "hc_5 = hc_5.drop(['Multiple','Unknown','Native Hawaiian or Other Pacific Islander']) #dropping unwanted rows"
   ]
  },
  {
   "cell_type": "code",
   "execution_count": 1883,
   "metadata": {},
   "outputs": [],
   "source": [
    "hc_5 = hc_5.sort_values(by='count', ascending= False) #rearranging them in a descending order "
   ]
  },
  {
   "cell_type": "code",
   "execution_count": 1884,
   "metadata": {},
   "outputs": [
    {
     "data": {
      "text/html": [
       "<div>\n",
       "<style scoped>\n",
       "    .dataframe tbody tr th:only-of-type {\n",
       "        vertical-align: middle;\n",
       "    }\n",
       "\n",
       "    .dataframe tbody tr th {\n",
       "        vertical-align: top;\n",
       "    }\n",
       "\n",
       "    .dataframe thead th {\n",
       "        text-align: right;\n",
       "    }\n",
       "</style>\n",
       "<table border=\"1\" class=\"dataframe\">\n",
       "  <thead>\n",
       "    <tr style=\"text-align: right;\">\n",
       "      <th></th>\n",
       "      <th>count</th>\n",
       "    </tr>\n",
       "    <tr>\n",
       "      <th>OFFENDER_RACE</th>\n",
       "      <th></th>\n",
       "    </tr>\n",
       "  </thead>\n",
       "  <tbody>\n",
       "    <tr>\n",
       "      <th>White</th>\n",
       "      <td>79514</td>\n",
       "    </tr>\n",
       "    <tr>\n",
       "      <th>Black or African American</th>\n",
       "      <td>25956</td>\n",
       "    </tr>\n",
       "    <tr>\n",
       "      <th>Asian</th>\n",
       "      <td>1453</td>\n",
       "    </tr>\n",
       "    <tr>\n",
       "      <th>American Indian or Alaska Native</th>\n",
       "      <td>1095</td>\n",
       "    </tr>\n",
       "  </tbody>\n",
       "</table>\n",
       "</div>"
      ],
      "text/plain": [
       "                                  count\n",
       "OFFENDER_RACE                          \n",
       "White                             79514\n",
       "Black or African American         25956\n",
       "Asian                              1453\n",
       "American Indian or Alaska Native   1095"
      ]
     },
     "execution_count": 1884,
     "metadata": {},
     "output_type": "execute_result"
    }
   ],
   "source": [
    "hc_5"
   ]
  },
  {
   "cell_type": "code",
   "execution_count": 1885,
   "metadata": {},
   "outputs": [],
   "source": [
    "dfs2= pd.read_html(\"https://www.infoplease.com/us/society-culture/race/us-population-race\") #parsing html file for US population by race"
   ]
  },
  {
   "cell_type": "code",
   "execution_count": 1886,
   "metadata": {},
   "outputs": [
    {
     "data": {
      "text/plain": [
       "2"
      ]
     },
     "execution_count": 1886,
     "metadata": {},
     "output_type": "execute_result"
    }
   ],
   "source": [
    "len(dfs2) #finding out how many dataframes parsed in the html file"
   ]
  },
  {
   "cell_type": "code",
   "execution_count": 1887,
   "metadata": {},
   "outputs": [],
   "source": [
    "race_pop=dfs2[0] #choosing the dataframe with index 0"
   ]
  },
  {
   "cell_type": "code",
   "execution_count": 1888,
   "metadata": {},
   "outputs": [],
   "source": [
    "race_pop= race_pop.head(6) #dropping unwanted rows from the dataframe\n",
    "race_pop= race_pop.tail(4)"
   ]
  },
  {
   "cell_type": "code",
   "execution_count": 1889,
   "metadata": {},
   "outputs": [],
   "source": [
    "race_pop = race_pop.drop(columns=['Number 2010','Percent','Percent.1'])  #dropping unwanted columns from the dataframe"
   ]
  },
  {
   "cell_type": "code",
   "execution_count": 1890,
   "metadata": {},
   "outputs": [
    {
     "data": {
      "text/html": [
       "<div>\n",
       "<style scoped>\n",
       "    .dataframe tbody tr th:only-of-type {\n",
       "        vertical-align: middle;\n",
       "    }\n",
       "\n",
       "    .dataframe tbody tr th {\n",
       "        vertical-align: top;\n",
       "    }\n",
       "\n",
       "    .dataframe thead th {\n",
       "        text-align: right;\n",
       "    }\n",
       "</style>\n",
       "<table border=\"1\" class=\"dataframe\">\n",
       "  <thead>\n",
       "    <tr style=\"text-align: right;\">\n",
       "      <th></th>\n",
       "      <th>Subject</th>\n",
       "      <th>Number 2000</th>\n",
       "    </tr>\n",
       "  </thead>\n",
       "  <tbody>\n",
       "    <tr>\n",
       "      <th>2</th>\n",
       "      <td>White</td>\n",
       "      <td>211460626</td>\n",
       "    </tr>\n",
       "    <tr>\n",
       "      <th>3</th>\n",
       "      <td>Black or African American</td>\n",
       "      <td>34658190</td>\n",
       "    </tr>\n",
       "    <tr>\n",
       "      <th>4</th>\n",
       "      <td>American Indian and Alaska Native</td>\n",
       "      <td>2475956</td>\n",
       "    </tr>\n",
       "    <tr>\n",
       "      <th>5</th>\n",
       "      <td>Asian</td>\n",
       "      <td>10242998</td>\n",
       "    </tr>\n",
       "  </tbody>\n",
       "</table>\n",
       "</div>"
      ],
      "text/plain": [
       "                             Subject Number 2000\n",
       "2                              White   211460626\n",
       "3          Black or African American    34658190\n",
       "4  American Indian and Alaska Native     2475956\n",
       "5                              Asian    10242998"
      ]
     },
     "execution_count": 1890,
     "metadata": {},
     "output_type": "execute_result"
    }
   ],
   "source": [
    "race_pop"
   ]
  },
  {
   "cell_type": "code",
   "execution_count": 1891,
   "metadata": {},
   "outputs": [],
   "source": [
    "race_pop.columns = ['OFFENDER_RACE','RACE_POPULATION'] #renaming the columns"
   ]
  },
  {
   "cell_type": "code",
   "execution_count": 1892,
   "metadata": {},
   "outputs": [],
   "source": [
    "race_pop.at[4,'OFFENDER_RACE'] = 'American Indian or Alaska Native' #fixing the value in a cell"
   ]
  },
  {
   "cell_type": "code",
   "execution_count": 1893,
   "metadata": {},
   "outputs": [],
   "source": [
    "hc_5 = pd.merge(hc_5, race_pop, on =\"OFFENDER_RACE\") #merging the two dataframes"
   ]
  },
  {
   "cell_type": "code",
   "execution_count": 1894,
   "metadata": {},
   "outputs": [],
   "source": [
    "hc_5.reset_index(drop=True, inplace=True) #reseting the index of the dataframe"
   ]
  },
  {
   "cell_type": "code",
   "execution_count": 1895,
   "metadata": {},
   "outputs": [],
   "source": [
    "hc_5[\"count\"]=hc_5[\"count\"].astype('float') #changing the data type of DATA_YEAR from int64 to an object\n",
    "hc_5[\"RACE_POPULATION\"]=hc_5[\"RACE_POPULATION\"].astype('float') #changing the data type of DATA_YEAR from int64 to an object"
   ]
  },
  {
   "cell_type": "code",
   "execution_count": 1896,
   "metadata": {},
   "outputs": [
    {
     "data": {
      "text/html": [
       "<div>\n",
       "<style scoped>\n",
       "    .dataframe tbody tr th:only-of-type {\n",
       "        vertical-align: middle;\n",
       "    }\n",
       "\n",
       "    .dataframe tbody tr th {\n",
       "        vertical-align: top;\n",
       "    }\n",
       "\n",
       "    .dataframe thead th {\n",
       "        text-align: right;\n",
       "    }\n",
       "</style>\n",
       "<table border=\"1\" class=\"dataframe\">\n",
       "  <thead>\n",
       "    <tr style=\"text-align: right;\">\n",
       "      <th></th>\n",
       "      <th>OFFENDER_RACE</th>\n",
       "      <th>count</th>\n",
       "      <th>RACE_POPULATION</th>\n",
       "    </tr>\n",
       "  </thead>\n",
       "  <tbody>\n",
       "    <tr>\n",
       "      <th>0</th>\n",
       "      <td>White</td>\n",
       "      <td>79514.0</td>\n",
       "      <td>211460626.0</td>\n",
       "    </tr>\n",
       "    <tr>\n",
       "      <th>1</th>\n",
       "      <td>Black or African American</td>\n",
       "      <td>25956.0</td>\n",
       "      <td>34658190.0</td>\n",
       "    </tr>\n",
       "    <tr>\n",
       "      <th>2</th>\n",
       "      <td>Asian</td>\n",
       "      <td>1453.0</td>\n",
       "      <td>10242998.0</td>\n",
       "    </tr>\n",
       "    <tr>\n",
       "      <th>3</th>\n",
       "      <td>American Indian or Alaska Native</td>\n",
       "      <td>1095.0</td>\n",
       "      <td>2475956.0</td>\n",
       "    </tr>\n",
       "  </tbody>\n",
       "</table>\n",
       "</div>"
      ],
      "text/plain": [
       "                      OFFENDER_RACE    count  RACE_POPULATION\n",
       "0                             White  79514.0      211460626.0\n",
       "1         Black or African American  25956.0       34658190.0\n",
       "2                             Asian   1453.0       10242998.0\n",
       "3  American Indian or Alaska Native   1095.0        2475956.0"
      ]
     },
     "execution_count": 1896,
     "metadata": {},
     "output_type": "execute_result"
    }
   ],
   "source": [
    "hc_5"
   ]
  },
  {
   "cell_type": "code",
   "execution_count": 1897,
   "metadata": {},
   "outputs": [],
   "source": [
    "hc_5['norm']= (hc_5['count']/hc_5['RACE_POPULATION'])*100000 #creating a normalized value for the dataframe"
   ]
  },
  {
   "cell_type": "code",
   "execution_count": 1898,
   "metadata": {},
   "outputs": [],
   "source": [
    "hc_5 = hc_5.sort_values(by='norm', ascending= False) #sorting the rows by the norm column"
   ]
  },
  {
   "cell_type": "code",
   "execution_count": 1899,
   "metadata": {},
   "outputs": [],
   "source": [
    "fig5 = px.scatter(hc_5,x='RACE_POPULATION', y='count',size='norm',title='The race with the highest number of offenders in 100000 of its population') #creating the figure\n",
    "fig5.show()\n",
    "#creating the figure"
   ]
  },
  {
   "cell_type": "code",
   "execution_count": 1900,
   "metadata": {},
   "outputs": [
    {
     "data": {
      "text/html": [
       "<div>\n",
       "<style scoped>\n",
       "    .dataframe tbody tr th:only-of-type {\n",
       "        vertical-align: middle;\n",
       "    }\n",
       "\n",
       "    .dataframe tbody tr th {\n",
       "        vertical-align: top;\n",
       "    }\n",
       "\n",
       "    .dataframe thead th {\n",
       "        text-align: right;\n",
       "    }\n",
       "</style>\n",
       "<table border=\"1\" class=\"dataframe\">\n",
       "  <thead>\n",
       "    <tr style=\"text-align: right;\">\n",
       "      <th></th>\n",
       "      <th>OFFENDER_RACE</th>\n",
       "      <th>count</th>\n",
       "      <th>RACE_POPULATION</th>\n",
       "      <th>norm</th>\n",
       "    </tr>\n",
       "  </thead>\n",
       "  <tbody>\n",
       "    <tr>\n",
       "      <th>1</th>\n",
       "      <td>Black or African American</td>\n",
       "      <td>25956.0</td>\n",
       "      <td>34658190.0</td>\n",
       "      <td>74.891389</td>\n",
       "    </tr>\n",
       "    <tr>\n",
       "      <th>3</th>\n",
       "      <td>American Indian or Alaska Native</td>\n",
       "      <td>1095.0</td>\n",
       "      <td>2475956.0</td>\n",
       "      <td>44.225342</td>\n",
       "    </tr>\n",
       "    <tr>\n",
       "      <th>0</th>\n",
       "      <td>White</td>\n",
       "      <td>79514.0</td>\n",
       "      <td>211460626.0</td>\n",
       "      <td>37.602272</td>\n",
       "    </tr>\n",
       "    <tr>\n",
       "      <th>2</th>\n",
       "      <td>Asian</td>\n",
       "      <td>1453.0</td>\n",
       "      <td>10242998.0</td>\n",
       "      <td>14.185300</td>\n",
       "    </tr>\n",
       "  </tbody>\n",
       "</table>\n",
       "</div>"
      ],
      "text/plain": [
       "                      OFFENDER_RACE    count  RACE_POPULATION       norm\n",
       "1         Black or African American  25956.0       34658190.0  74.891389\n",
       "3  American Indian or Alaska Native   1095.0        2475956.0  44.225342\n",
       "0                             White  79514.0      211460626.0  37.602272\n",
       "2                             Asian   1453.0       10242998.0  14.185300"
      ]
     },
     "execution_count": 1900,
     "metadata": {},
     "output_type": "execute_result"
    }
   ],
   "source": [
    "hc_5"
   ]
  },
  {
   "cell_type": "code",
   "execution_count": 1901,
   "metadata": {},
   "outputs": [],
   "source": [
    "names= hc_5['OFFENDER_RACE']\n",
    "labels= {'index':'Race of the offender'}\n",
    "fig5_2 = px.bar(hc_5,x='OFFENDER_RACE',y='norm',labels=labels ,title='The race with the highest number of offenders in 100000 of its population')\n",
    "fig5_2.show() \n",
    "#creating the figure"
   ]
  },
  {
   "cell_type": "code",
   "execution_count": null,
   "metadata": {},
   "outputs": [],
   "source": []
  }
 ],
 "metadata": {
  "kernelspec": {
   "display_name": "Python 3",
   "language": "python",
   "name": "python3"
  },
  "language_info": {
   "codemirror_mode": {
    "name": "ipython",
    "version": 3
   },
   "file_extension": ".py",
   "mimetype": "text/x-python",
   "name": "python",
   "nbconvert_exporter": "python",
   "pygments_lexer": "ipython3",
   "version": "3.8.3"
  }
 },
 "nbformat": 4,
 "nbformat_minor": 4
}
